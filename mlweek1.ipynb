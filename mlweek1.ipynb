{
  "nbformat": 4,
  "nbformat_minor": 0,
  "metadata": {
    "colab": {
      "provenance": []
    },
    "kernelspec": {
      "name": "python3",
      "display_name": "Python 3"
    },
    "language_info": {
      "name": "python"
    }
  },
  "cells": [
    {
      "cell_type": "code",
      "execution_count": 1,
      "metadata": {
        "colab": {
          "base_uri": "https://localhost:8080/"
        },
        "id": "oeOg_CU2UNOm",
        "outputId": "22ea6a4c-568b-4686-e226-8d5e4974a05b"
      },
      "outputs": [
        {
          "output_type": "stream",
          "name": "stdout",
          "text": [
            "            2014   2015    2016   2017\n",
            "Madhu      100.5  12000   20000  50000\n",
            "Kusum      150.8  18000   50000  60000\n",
            "Kinshuk    200.9  22000   70000  70000\n",
            "Ankit    30000.0  30000  100000  80000\n",
            "Shruti   40000.0  45000  125000  90000\n"
          ]
        }
      ],
      "source": [
        "# Question 9\n",
        "import pandas as pd\n",
        "sales_data = {2014:[100.5, 150.8, 200.9, 30000, 40000],2015: [12000, 18000, 22000, 30000, 45000], 2016: [20000, 50000, 70000, 100000, 125000],2017: [50000, 60000, 70000, 80000, 90000]\n",
        "              }\n",
        "sales_person = [\"Madhu\", \"Kusum\", \"Kinshuk\", \"Ankit\", \"Shruti\"]\n",
        "sales = pd.DataFrame(sales_data,index = sales_person)\n",
        "print(sales)"
      ]
    },
    {
      "cell_type": "code",
      "source": [
        "#Question 10\n",
        "print(\"Row Labels:\", sales.index)"
      ],
      "metadata": {
        "colab": {
          "base_uri": "https://localhost:8080/"
        },
        "id": "j0x0zaYiUiyP",
        "outputId": "8139270a-71e8-4f8c-8d32-9b0e00ba994c"
      },
      "execution_count": 2,
      "outputs": [
        {
          "output_type": "stream",
          "name": "stdout",
          "text": [
            "Row Labels: Index(['Madhu', 'Kusum', 'Kinshuk', 'Ankit', 'Shruti'], dtype='object')\n"
          ]
        }
      ]
    },
    {
      "cell_type": "code",
      "source": [
        "print(\"column labels:\", sales.columns)"
      ],
      "metadata": {
        "colab": {
          "base_uri": "https://localhost:8080/"
        },
        "id": "rgwrqzDzUnUy",
        "outputId": "6a16e246-88ad-4d4b-fc63-3552fd17f1f6"
      },
      "execution_count": 3,
      "outputs": [
        {
          "output_type": "stream",
          "name": "stdout",
          "text": [
            "column labels: Index([2014, 2015, 2016, 2017], dtype='int64')\n"
          ]
        }
      ]
    },
    {
      "cell_type": "code",
      "source": [
        "print(\"data type:\\n\",sales.dtypes)"
      ],
      "metadata": {
        "colab": {
          "base_uri": "https://localhost:8080/"
        },
        "id": "yxE27wc-UrVF",
        "outputId": "edff37bf-5c97-4fa2-fd42-d4d1dab5a1a6"
      },
      "execution_count": 4,
      "outputs": [
        {
          "output_type": "stream",
          "name": "stdout",
          "text": [
            "data type:\n",
            " 2014    float64\n",
            "2015      int64\n",
            "2016      int64\n",
            "2017      int64\n",
            "dtype: object\n"
          ]
        }
      ]
    },
    {
      "cell_type": "code",
      "source": [
        "print(\"Dimensions:\",sales.ndim)\n",
        "print(\"size:\",sales.size)\n",
        "print(\"shape:\",sales.shape)\n",
        "print(\"Values:\\n\", sales.values)"
      ],
      "metadata": {
        "colab": {
          "base_uri": "https://localhost:8080/"
        },
        "id": "ctKYPQ4nU9h9",
        "outputId": "07ed7efa-ac5d-4f8c-f762-84cd340d5b2e"
      },
      "execution_count": 5,
      "outputs": [
        {
          "output_type": "stream",
          "name": "stdout",
          "text": [
            "Dimensions: 2\n",
            "size: 20\n",
            "shape: (5, 4)\n",
            "Values:\n",
            " [[1.005e+02 1.200e+04 2.000e+04 5.000e+04]\n",
            " [1.508e+02 1.800e+04 5.000e+04 6.000e+04]\n",
            " [2.009e+02 2.200e+04 7.000e+04 7.000e+04]\n",
            " [3.000e+04 3.000e+04 1.000e+05 8.000e+04]\n",
            " [4.000e+04 4.500e+04 1.250e+05 9.000e+04]]\n"
          ]
        }
      ]
    },
    {
      "cell_type": "code",
      "source": [
        "print(sales.tail(2))\n",
        "print(\"first two rows:\\n\",sales.head(2))"
      ],
      "metadata": {
        "colab": {
          "base_uri": "https://localhost:8080/"
        },
        "id": "FJwnOzRRVBcT",
        "outputId": "7bce8f93-37f2-41a9-d2a9-68fd3dde5f45"
      },
      "execution_count": 6,
      "outputs": [
        {
          "output_type": "stream",
          "name": "stdout",
          "text": [
            "           2014   2015    2016   2017\n",
            "Ankit   30000.0  30000  100000  80000\n",
            "Shruti  40000.0  45000  125000  90000\n",
            "first two rows:\n",
            "         2014   2015   2016   2017\n",
            "Madhu  100.5  12000  20000  50000\n",
            "Kusum  150.8  18000  50000  60000\n"
          ]
        }
      ]
    },
    {
      "cell_type": "code",
      "source": [
        "sales_data2 = {2018:[160000, 110000, 500000, 340000, 900000]}\n",
        "sales2 = pd.DataFrame(sales_data2,index = sales_person)\n",
        "print(sales2)"
      ],
      "metadata": {
        "colab": {
          "base_uri": "https://localhost:8080/"
        },
        "id": "OnX3uooXVDbW",
        "outputId": "8eee9df7-a942-4549-b29c-e136ff065464"
      },
      "execution_count": 7,
      "outputs": [
        {
          "output_type": "stream",
          "name": "stdout",
          "text": [
            "           2018\n",
            "Madhu    160000\n",
            "Kusum    110000\n",
            "Kinshuk  500000\n",
            "Ankit    340000\n",
            "Shruti   900000\n"
          ]
        }
      ]
    },
    {
      "cell_type": "code",
      "source": [
        "print(\"Is empty:\", sales2.empty)"
      ],
      "metadata": {
        "colab": {
          "base_uri": "https://localhost:8080/"
        },
        "id": "zT3Lcgv9VG_Z",
        "outputId": "e783d3a0-4d2f-405b-ffd3-ba1a141d0662"
      },
      "execution_count": 8,
      "outputs": [
        {
          "output_type": "stream",
          "name": "stdout",
          "text": [
            "Is empty: False\n"
          ]
        }
      ]
    },
    {
      "cell_type": "code",
      "source": [
        "sales = pd.concat([sales, sales2], axis=1)\n",
        "print(\"\\nAfter appending sales2:\\n\", sales)"
      ],
      "metadata": {
        "colab": {
          "base_uri": "https://localhost:8080/"
        },
        "id": "kC7LIbTRVNfZ",
        "outputId": "4c504bcb-0542-4738-c306-ecb850cab113"
      },
      "execution_count": 9,
      "outputs": [
        {
          "output_type": "stream",
          "name": "stdout",
          "text": [
            "\n",
            "After appending sales2:\n",
            "             2014   2015    2016   2017    2018\n",
            "Madhu      100.5  12000   20000  50000  160000\n",
            "Kusum      150.8  18000   50000  60000  110000\n",
            "Kinshuk    200.9  22000   70000  70000  500000\n",
            "Ankit    30000.0  30000  100000  80000  340000\n",
            "Shruti   40000.0  45000  125000  90000  900000\n"
          ]
        }
      ]
    },
    {
      "cell_type": "code",
      "source": [
        "sales = sales.T\n",
        "print(\"\\nAfter transpose:\\n\", sales)"
      ],
      "metadata": {
        "colab": {
          "base_uri": "https://localhost:8080/"
        },
        "id": "tUNnw_32VPGO",
        "outputId": "174cbe0c-6f34-40dd-96fc-237f9cb8a2a6"
      },
      "execution_count": 10,
      "outputs": [
        {
          "output_type": "stream",
          "name": "stdout",
          "text": [
            "\n",
            "After transpose:\n",
            "          Madhu     Kusum   Kinshuk     Ankit    Shruti\n",
            "2014     100.5     150.8     200.9   30000.0   40000.0\n",
            "2015   12000.0   18000.0   22000.0   30000.0   45000.0\n",
            "2016   20000.0   50000.0   70000.0  100000.0  125000.0\n",
            "2017   50000.0   60000.0   70000.0   80000.0   90000.0\n",
            "2018  160000.0  110000.0  500000.0  340000.0  900000.0\n"
          ]
        }
      ]
    },
    {
      "cell_type": "code",
      "source": [
        "print(\"\\nIndex after transpose:\", sales.index)"
      ],
      "metadata": {
        "colab": {
          "base_uri": "https://localhost:8080/"
        },
        "id": "jV_cgb_qVUT3",
        "outputId": "42b08fa5-3c1c-4150-d97e-f730a6a1e9b7"
      },
      "execution_count": 11,
      "outputs": [
        {
          "output_type": "stream",
          "name": "stdout",
          "text": [
            "\n",
            "Index after transpose: Index([2014, 2015, 2016, 2017, 2018], dtype='int64')\n"
          ]
        }
      ]
    },
    {
      "cell_type": "code",
      "source": [
        "print(\"\\nSales in 2017:\\n\", sales.loc[2017])"
      ],
      "metadata": {
        "colab": {
          "base_uri": "https://localhost:8080/"
        },
        "id": "rYpmJRZRVV34",
        "outputId": "4abba6d1-aa85-4152-b8a0-a8c1c8ae7fed"
      },
      "execution_count": 12,
      "outputs": [
        {
          "output_type": "stream",
          "name": "stdout",
          "text": [
            "\n",
            "Sales in 2017:\n",
            " Madhu      50000.0\n",
            "Kusum      60000.0\n",
            "Kinshuk    70000.0\n",
            "Ankit      80000.0\n",
            "Shruti     90000.0\n",
            "Name: 2017, dtype: float64\n"
          ]
        }
      ]
    },
    {
      "cell_type": "code",
      "source": [
        "print(\"\\nSales of Madhu & Ankit in 2017 & 2018:\\n\", sales.loc[[2017, 2018], [\"Madhu\", \"Ankit\"]])"
      ],
      "metadata": {
        "colab": {
          "base_uri": "https://localhost:8080/"
        },
        "id": "W05JXr1VVbth",
        "outputId": "4a19ce28-3d78-4566-9e7b-f6224409c6af"
      },
      "execution_count": 13,
      "outputs": [
        {
          "output_type": "stream",
          "name": "stdout",
          "text": [
            "\n",
            "Sales of Madhu & Ankit in 2017 & 2018:\n",
            "          Madhu     Ankit\n",
            "2017   50000.0   80000.0\n",
            "2018  160000.0  340000.0\n"
          ]
        }
      ]
    },
    {
      "cell_type": "code",
      "source": [
        "print(\"\\nSales of Shruti in 2016:\", sales.loc[2016, \"Shruti\"])"
      ],
      "metadata": {
        "colab": {
          "base_uri": "https://localhost:8080/"
        },
        "id": "rjk4rpjCVdYq",
        "outputId": "7d39a042-4218-4f42-d590-28e3fe2900bd"
      },
      "execution_count": 14,
      "outputs": [
        {
          "output_type": "stream",
          "name": "stdout",
          "text": [
            "\n",
            "Sales of Shruti in 2016: 125000.0\n"
          ]
        }
      ]
    },
    {
      "cell_type": "code",
      "source": [
        "print(\"\\nAfter adding Sumeet:\\n\", sales)"
      ],
      "metadata": {
        "colab": {
          "base_uri": "https://localhost:8080/"
        },
        "id": "5HGAYRiKVjkZ",
        "outputId": "d51f9b1b-1ac1-413d-9250-5a834e70512e"
      },
      "execution_count": 15,
      "outputs": [
        {
          "output_type": "stream",
          "name": "stdout",
          "text": [
            "\n",
            "After adding Sumeet:\n",
            "          Madhu     Kusum   Kinshuk     Ankit    Shruti\n",
            "2014     100.5     150.8     200.9   30000.0   40000.0\n",
            "2015   12000.0   18000.0   22000.0   30000.0   45000.0\n",
            "2016   20000.0   50000.0   70000.0  100000.0  125000.0\n",
            "2017   50000.0   60000.0   70000.0   80000.0   90000.0\n",
            "2018  160000.0  110000.0  500000.0  340000.0  900000.0\n"
          ]
        }
      ]
    },
    {
      "cell_type": "code",
      "source": [
        "sales[\"Sumeet\"] = [196.2, 37800, 52000, 78438, 38852]\n",
        "print(\"\\nAfter adding Sumeet:\\n\", sales)"
      ],
      "metadata": {
        "colab": {
          "base_uri": "https://localhost:8080/"
        },
        "id": "qzJ2kLb0Vk9G",
        "outputId": "1a67ed14-a524-4e91-ca75-9ca3d9aa5de5"
      },
      "execution_count": 16,
      "outputs": [
        {
          "output_type": "stream",
          "name": "stdout",
          "text": [
            "\n",
            "After adding Sumeet:\n",
            "          Madhu     Kusum   Kinshuk     Ankit    Shruti   Sumeet\n",
            "2014     100.5     150.8     200.9   30000.0   40000.0    196.2\n",
            "2015   12000.0   18000.0   22000.0   30000.0   45000.0  37800.0\n",
            "2016   20000.0   50000.0   70000.0  100000.0  125000.0  52000.0\n",
            "2017   50000.0   60000.0   70000.0   80000.0   90000.0  78438.0\n",
            "2018  160000.0  110000.0  500000.0  340000.0  900000.0  38852.0\n"
          ]
        }
      ]
    },
    {
      "cell_type": "code",
      "source": [
        "sales = sales.drop(2014)\n",
        "print(\"\\nAfter deleting 2014:\\n\", sales)"
      ],
      "metadata": {
        "colab": {
          "base_uri": "https://localhost:8080/"
        },
        "id": "Ar2FiIb1VpO_",
        "outputId": "4280a3ab-5b0b-41a1-a0b4-c2b754c56dee"
      },
      "execution_count": 17,
      "outputs": [
        {
          "output_type": "stream",
          "name": "stdout",
          "text": [
            "\n",
            "After deleting 2014:\n",
            "          Madhu     Kusum   Kinshuk     Ankit    Shruti   Sumeet\n",
            "2015   12000.0   18000.0   22000.0   30000.0   45000.0  37800.0\n",
            "2016   20000.0   50000.0   70000.0  100000.0  125000.0  52000.0\n",
            "2017   50000.0   60000.0   70000.0   80000.0   90000.0  78438.0\n",
            "2018  160000.0  110000.0  500000.0  340000.0  900000.0  38852.0\n"
          ]
        }
      ]
    },
    {
      "cell_type": "code",
      "source": [
        "sales = sales.drop(columns=\"Kinshuk\")\n",
        "print(\"\\nAfter deleting Kinshuk:\\n\", sales)"
      ],
      "metadata": {
        "colab": {
          "base_uri": "https://localhost:8080/"
        },
        "id": "ffKKL3-eVtVA",
        "outputId": "474fa902-695a-4939-aebb-7885ad51e700"
      },
      "execution_count": 18,
      "outputs": [
        {
          "output_type": "stream",
          "name": "stdout",
          "text": [
            "\n",
            "After deleting Kinshuk:\n",
            "          Madhu     Kusum     Ankit    Shruti   Sumeet\n",
            "2015   12000.0   18000.0   30000.0   45000.0  37800.0\n",
            "2016   20000.0   50000.0  100000.0  125000.0  52000.0\n",
            "2017   50000.0   60000.0   80000.0   90000.0  78438.0\n",
            "2018  160000.0  110000.0  340000.0  900000.0  38852.0\n"
          ]
        }
      ]
    },
    {
      "cell_type": "code",
      "source": [
        "sales = sales.rename(columns={\"Ankit\": \"Vivaan\", \"Madhu\": \"Shailesh\"})\n",
        "print(\"\\nAfter renaming:\\n\", sales)"
      ],
      "metadata": {
        "colab": {
          "base_uri": "https://localhost:8080/"
        },
        "id": "vC64H8doVxu5",
        "outputId": "5e89ae28-d192-4644-8d08-dd21abae4312"
      },
      "execution_count": 19,
      "outputs": [
        {
          "output_type": "stream",
          "name": "stdout",
          "text": [
            "\n",
            "After renaming:\n",
            "       Shailesh     Kusum    Vivaan    Shruti   Sumeet\n",
            "2015   12000.0   18000.0   30000.0   45000.0  37800.0\n",
            "2016   20000.0   50000.0  100000.0  125000.0  52000.0\n",
            "2017   50000.0   60000.0   80000.0   90000.0  78438.0\n",
            "2018  160000.0  110000.0  340000.0  900000.0  38852.0\n"
          ]
        }
      ]
    },
    {
      "cell_type": "code",
      "source": [
        "sales.loc[2018, \"Shailesh\"] = 100000\n",
        "print(\"\\nAfter updating Shailesh’s 2018 sales:\\n\", sales)"
      ],
      "metadata": {
        "colab": {
          "base_uri": "https://localhost:8080/"
        },
        "id": "nb48HrcwV41i",
        "outputId": "f119d130-ba92-46af-a2b8-103ad85657c8"
      },
      "execution_count": 20,
      "outputs": [
        {
          "output_type": "stream",
          "name": "stdout",
          "text": [
            "\n",
            "After updating Shailesh’s 2018 sales:\n",
            "       Shailesh     Kusum    Vivaan    Shruti   Sumeet\n",
            "2015   12000.0   18000.0   30000.0   45000.0  37800.0\n",
            "2016   20000.0   50000.0  100000.0  125000.0  52000.0\n",
            "2017   50000.0   60000.0   80000.0   90000.0  78438.0\n",
            "2018  100000.0  110000.0  340000.0  900000.0  38852.0\n"
          ]
        }
      ]
    },
    {
      "cell_type": "code",
      "source": [
        "sales.to_csv(\"SalesFigures.csv\", index=False, header=False)"
      ],
      "metadata": {
        "id": "BdmFHsLbV9SL"
      },
      "execution_count": 21,
      "outputs": []
    },
    {
      "cell_type": "code",
      "source": [
        "salesRetrieved = pd.read_csv(\"SalesFigures.csv\", header=None)\n",
        "salesRetrieved.index = sales.index\n",
        "salesRetrieved.columns = sales.columns\n",
        "print(\"\\nRetrieved from CSV:\\n\", salesRetrieved)"
      ],
      "metadata": {
        "colab": {
          "base_uri": "https://localhost:8080/"
        },
        "id": "jZGp6NN6WAvH",
        "outputId": "e389af0b-5f04-4e48-97ec-ae62c2c3e8fa"
      },
      "execution_count": 22,
      "outputs": [
        {
          "output_type": "stream",
          "name": "stdout",
          "text": [
            "\n",
            "Retrieved from CSV:\n",
            "       Shailesh     Kusum    Vivaan    Shruti   Sumeet\n",
            "2015   12000.0   18000.0   30000.0   45000.0  37800.0\n",
            "2016   20000.0   50000.0  100000.0  125000.0  52000.0\n",
            "2017   50000.0   60000.0   80000.0   90000.0  78438.0\n",
            "2018  100000.0  110000.0  340000.0  900000.0  38852.0\n"
          ]
        }
      ]
    },
    {
      "cell_type": "code",
      "source": [
        "#13\n",
        "import pandas as pd\n",
        "\n",
        "\n",
        "data = {\n",
        "    \"Item\": [\"TV\", \"TV\", \"TV\", \"AC\"],\n",
        "    \"Company\": [\"LG\", \"VIDEOCON\", \"LG\", \"SONY\"],\n",
        "    \"Rupees\": [12000, 10000, 15000, 14000],\n",
        "    \"USD\": [700, 650, 800, 750]\n",
        "}\n",
        "\n",
        "product_df = pd.DataFrame(data)\n",
        "print(\"Initial DataFrame:\\n\", product_df)\n"
      ],
      "metadata": {
        "colab": {
          "base_uri": "https://localhost:8080/"
        },
        "id": "TNumWiJBWdac",
        "outputId": "52f0f9e6-d128-451f-c0c8-537c77349b63"
      },
      "execution_count": 23,
      "outputs": [
        {
          "output_type": "stream",
          "name": "stdout",
          "text": [
            "Initial DataFrame:\n",
            "   Item   Company  Rupees  USD\n",
            "0   TV        LG   12000  700\n",
            "1   TV  VIDEOCON   10000  650\n",
            "2   TV        LG   15000  800\n",
            "3   AC      SONY   14000  750\n"
          ]
        }
      ]
    },
    {
      "cell_type": "code",
      "source": [
        "new_rows = pd.DataFrame({\n",
        "    \"Item\": [\"AC\", \"TV\"],\n",
        "    \"Company\": [\"LG\", \"SONY\"],\n",
        "    \"Rupees\": [16000, 18000],\n",
        "    \"USD\": [820, 900]\n",
        "})\n",
        "\n",
        "product_df = pd.concat([product_df, new_rows], ignore_index=True)\n",
        "print(\"\\nDataFrame after adding rows:\\n\", product_df)\n"
      ],
      "metadata": {
        "colab": {
          "base_uri": "https://localhost:8080/"
        },
        "id": "4jUXk2kRWhFO",
        "outputId": "7b96a122-4f04-4994-b27b-d4e93b854545"
      },
      "execution_count": 24,
      "outputs": [
        {
          "output_type": "stream",
          "name": "stdout",
          "text": [
            "\n",
            "DataFrame after adding rows:\n",
            "   Item   Company  Rupees  USD\n",
            "0   TV        LG   12000  700\n",
            "1   TV  VIDEOCON   10000  650\n",
            "2   TV        LG   15000  800\n",
            "3   AC      SONY   14000  750\n",
            "4   AC        LG   16000  820\n",
            "5   TV      SONY   18000  900\n"
          ]
        }
      ]
    },
    {
      "cell_type": "code",
      "source": [
        "max_price_lg_tv = product_df[(product_df[\"Item\"]==\"TV\") & (product_df[\"Company\"]==\"LG\")][\"Rupees\"].max()\n",
        "print(\"\\nMaximum price of LG TV:\", max_price_lg_tv)\n"
      ],
      "metadata": {
        "colab": {
          "base_uri": "https://localhost:8080/"
        },
        "id": "sf6zG3qtWt4_",
        "outputId": "d20d150f-cd0b-40f6-e67b-b663bb5c6235"
      },
      "execution_count": 25,
      "outputs": [
        {
          "output_type": "stream",
          "name": "stdout",
          "text": [
            "\n",
            "Maximum price of LG TV: 15000\n"
          ]
        }
      ]
    },
    {
      "cell_type": "code",
      "source": [
        "sum_rupees = product_df[\"Rupees\"].sum()\n",
        "sum_usd = product_df[\"USD\"].sum()\n",
        "print(\"\\nTotal Rupees:\", sum_rupees)\n",
        "print(\"Total USD:\", sum_usd)\n"
      ],
      "metadata": {
        "colab": {
          "base_uri": "https://localhost:8080/"
        },
        "id": "dx6CJqLFWvgb",
        "outputId": "3bd59018-a8bf-41d4-d472-12adaa90c711"
      },
      "execution_count": 26,
      "outputs": [
        {
          "output_type": "stream",
          "name": "stdout",
          "text": [
            "\n",
            "Total Rupees: 85000\n",
            "Total USD: 4620\n"
          ]
        }
      ]
    },
    {
      "cell_type": "code",
      "source": [
        "median_sony_usd = product_df[product_df[\"Company\"]==\"SONY\"][\"USD\"].median()\n",
        "print(\"\\nMedian USD of SONY products:\", median_sony_usd)\n"
      ],
      "metadata": {
        "colab": {
          "base_uri": "https://localhost:8080/"
        },
        "id": "TD6QbSmpWzyk",
        "outputId": "6d4b91d2-98b5-4088-c243-7ebb12128ec8"
      },
      "execution_count": 27,
      "outputs": [
        {
          "output_type": "stream",
          "name": "stdout",
          "text": [
            "\n",
            "Median USD of SONY products: 825.0\n"
          ]
        }
      ]
    },
    {
      "cell_type": "code",
      "source": [
        "sorted_df = product_df.sort_values(by=\"Rupees\")\n",
        "print(\"\\nSorted DataFrame by Rupees:\\n\", sorted_df)\n"
      ],
      "metadata": {
        "colab": {
          "base_uri": "https://localhost:8080/"
        },
        "id": "BCEpt3OrW48x",
        "outputId": "1b1e114e-d4f3-415b-fae7-ab9e6b8d261f"
      },
      "execution_count": 28,
      "outputs": [
        {
          "output_type": "stream",
          "name": "stdout",
          "text": [
            "\n",
            "Sorted DataFrame by Rupees:\n",
            "   Item   Company  Rupees  USD\n",
            "1   TV  VIDEOCON   10000  650\n",
            "0   TV        LG   12000  700\n",
            "3   AC      SONY   14000  750\n",
            "2   TV        LG   15000  800\n",
            "4   AC        LG   16000  820\n",
            "5   TV      SONY   18000  900\n"
          ]
        }
      ]
    },
    {
      "cell_type": "code",
      "source": [
        "#14\n",
        "data2 = {\n",
        "    \"Name\": [\"Amit\", \"Priya\", \"John\", \"Neha\", \"Raj\"],\n",
        "    \"Degree\": [\"MBA\", \"MBA\", \"BCA\", \"MBA\", \"BCA\"],\n",
        "    \"Marks\": [80, 90, None, 70, None]\n",
        "}\n",
        "student_df = pd.DataFrame(data2)\n",
        "print(\"Initial Student DataFrame:\\n\", student_df)\n",
        "\n"
      ],
      "metadata": {
        "colab": {
          "base_uri": "https://localhost:8080/"
        },
        "id": "7zkK2dKYW9Gs",
        "outputId": "0680d14f-4a92-4675-cc47-da101a3295e3"
      },
      "execution_count": 30,
      "outputs": [
        {
          "output_type": "stream",
          "name": "stdout",
          "text": [
            "Initial Student DataFrame:\n",
            "     Name Degree  Marks\n",
            "0   Amit    MBA   80.0\n",
            "1  Priya    MBA   90.0\n",
            "2   John    BCA    NaN\n",
            "3   Neha    MBA   70.0\n",
            "4    Raj    BCA    NaN\n"
          ]
        }
      ]
    },
    {
      "cell_type": "code",
      "source": [
        "max_marks_stream = student_df.groupby(\"Degree\")[\"Marks\"].max()\n",
        "print(\"\\nMaximum marks in each stream:\\n\", max_marks_stream)\n"
      ],
      "metadata": {
        "colab": {
          "base_uri": "https://localhost:8080/"
        },
        "id": "lhKKUe-XYPzB",
        "outputId": "c73c5e38-293a-405c-d169-4049b756cc8f"
      },
      "execution_count": 31,
      "outputs": [
        {
          "output_type": "stream",
          "name": "stdout",
          "text": [
            "\n",
            "Maximum marks in each stream:\n",
            " Degree\n",
            "BCA     NaN\n",
            "MBA    90.0\n",
            "Name: Marks, dtype: float64\n"
          ]
        }
      ]
    },
    {
      "cell_type": "code",
      "source": [
        "student_df[\"Marks\"] = student_df[\"Marks\"].fillna(76)\n",
        "print(\"\\nAfter filling NaN with 76:\\n\", student_df)\n"
      ],
      "metadata": {
        "colab": {
          "base_uri": "https://localhost:8080/"
        },
        "id": "wyef4jfsYRXm",
        "outputId": "f430bdc7-8837-48bb-b9af-94613b0bdb8f"
      },
      "execution_count": 32,
      "outputs": [
        {
          "output_type": "stream",
          "name": "stdout",
          "text": [
            "\n",
            "After filling NaN with 76:\n",
            "     Name Degree  Marks\n",
            "0   Amit    MBA   80.0\n",
            "1  Priya    MBA   90.0\n",
            "2   John    BCA   76.0\n",
            "3   Neha    MBA   70.0\n",
            "4    Raj    BCA   76.0\n"
          ]
        }
      ]
    },
    {
      "cell_type": "code",
      "source": [
        "student_df.set_index(\"Name\", inplace=True)\n",
        "print(\"\\nDataFrame with Name as index:\\n\", student_df)\n"
      ],
      "metadata": {
        "colab": {
          "base_uri": "https://localhost:8080/"
        },
        "id": "gU7-V1lJYhlA",
        "outputId": "3fe91580-29d0-41fd-fe39-7ae44f68b482"
      },
      "execution_count": 33,
      "outputs": [
        {
          "output_type": "stream",
          "name": "stdout",
          "text": [
            "\n",
            "DataFrame with Name as index:\n",
            "       Degree  Marks\n",
            "Name               \n",
            "Amit     MBA   80.0\n",
            "Priya    MBA   90.0\n",
            "John     BCA   76.0\n",
            "Neha     MBA   70.0\n",
            "Raj      BCA   76.0\n"
          ]
        }
      ]
    },
    {
      "cell_type": "code",
      "source": [
        "avg_marks = student_df.groupby([\"Name\",\"Degree\"])[\"Marks\"].mean()\n",
        "print(\"\\nName & Degree-wise average marks:\\n\", avg_marks)\n"
      ],
      "metadata": {
        "colab": {
          "base_uri": "https://localhost:8080/"
        },
        "id": "o44EFAIDYjMg",
        "outputId": "a0a3fee1-b975-48f9-93a4-c7f3e71ee516"
      },
      "execution_count": 34,
      "outputs": [
        {
          "output_type": "stream",
          "name": "stdout",
          "text": [
            "\n",
            "Name & Degree-wise average marks:\n",
            " Name   Degree\n",
            "Amit   MBA       80.0\n",
            "John   BCA       76.0\n",
            "Neha   MBA       70.0\n",
            "Priya  MBA       90.0\n",
            "Raj    BCA       76.0\n",
            "Name: Marks, dtype: float64\n"
          ]
        }
      ]
    },
    {
      "cell_type": "code",
      "source": [
        "mba_count = (student_df[\"Degree\"]==\"MBA\").sum()\n",
        "print(\"\\nNumber of students in MBA:\", mba_count)\n"
      ],
      "metadata": {
        "colab": {
          "base_uri": "https://localhost:8080/"
        },
        "id": "8yB7amnPYp7U",
        "outputId": "ff2c4434-dd9d-42aa-b957-c03cee8d60ce"
      },
      "execution_count": 35,
      "outputs": [
        {
          "output_type": "stream",
          "name": "stdout",
          "text": [
            "\n",
            "Number of students in MBA: 3\n"
          ]
        }
      ]
    },
    {
      "cell_type": "code",
      "source": [
        "mode_bca = student_df[student_df[\"Degree\"]==\"BCA\"][\"Marks\"].mode()[0]\n",
        "print(\"\\nMode marks of BCA:\", mode_bca)\n"
      ],
      "metadata": {
        "colab": {
          "base_uri": "https://localhost:8080/"
        },
        "id": "_jiW9JGtYvJ2",
        "outputId": "90834e1b-21b5-4eff-e303-37b2c300f41e"
      },
      "execution_count": 36,
      "outputs": [
        {
          "output_type": "stream",
          "name": "stdout",
          "text": [
            "\n",
            "Mode marks of BCA: 76.0\n"
          ]
        }
      ]
    }
  ]
}